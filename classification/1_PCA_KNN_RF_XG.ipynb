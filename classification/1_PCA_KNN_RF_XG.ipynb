{
 "cells": [
  {
   "cell_type": "code",
   "execution_count": 1,
   "id": "5ed14a9f-36ce-42ba-8914-fae1fb49abb0",
   "metadata": {},
   "outputs": [],
   "source": [
    "import os\n",
    "import numpy as np\n",
    "import matplotlib.pyplot as plt\n",
    "import pandas as pd\n",
    "from sklearn.neighbors import KNeighborsClassifier\n",
    "from sklearn.tree import DecisionTreeClassifier\n",
    "from sklearn.ensemble import RandomForestClassifier\n",
    "from sklearn.multiclass import OneVsRestClassifier\n",
    "from sklearn.metrics import (\n",
    "    accuracy_score, balanced_accuracy_score, precision_score, average_precision_score,\n",
    "    recall_score, f1_score, roc_auc_score, confusion_matrix, ConfusionMatrixDisplay\n",
    ")\n",
    "from sklearn.model_selection import cross_val_score, train_test_split\n",
    "\n",
    "import IPython\n",
    "os.environ['NUMBA_CACHE_DIR'] = IPython.paths.get_ipython_cache_dir()\n",
    "\n",
    "import warnings\n",
    "warnings.filterwarnings('ignore')"
   ]
  },
  {
   "cell_type": "code",
   "execution_count": 4,
   "id": "7625f0c7-0731-40c8-80ab-071f57612f22",
   "metadata": {},
   "outputs": [],
   "source": [
    "# Get the user's home directory (e.g., 'C:\\Users\\user')\n",
    "DATA_DIR = r\"C:\\Users\\Administrator\\Desktop\\mlpc\"\n",
    "metadata_dir = os.path.join(DATA_DIR, 'metadata.csv')\n",
    "features_dir = os.path.join(DATA_DIR, 'audio_features')\n",
    "labels_dir = os.path.join(DATA_DIR, 'labels')"
   ]
  },
  {
   "cell_type": "markdown",
   "id": "714cf054-05e9-46b5-b8f6-b185aaba1ea4",
   "metadata": {},
   "source": [
    "#### Load Metadata"
   ]
  },
  {
   "cell_type": "code",
   "execution_count": 5,
   "id": "3f25611e-3986-4659-b24a-9acabf63ad7b",
   "metadata": {},
   "outputs": [],
   "source": [
    "# Load Metadata & Training Files\n",
    "metadata = pd.read_csv(metadata_dir)\n",
    "train_files = metadata.sample(len(metadata), random_state=42)[\"filename\"].unique()"
   ]
  },
  {
   "cell_type": "markdown",
   "id": "474d7220-f1de-4ec7-95e7-14724e32b6db",
   "metadata": {},
   "source": [
    "#### Load categories"
   ]
  },
  {
   "cell_type": "code",
   "execution_count": 6,
   "id": "c49b997d-b89f-407a-a009-e37f473392e1",
   "metadata": {},
   "outputs": [],
   "source": [
    "# Load categories\n",
    "categories = ['Airplane', 'Alarm', 'Beep/Bleep', 'Bell', 'Bicycle', 'Bird Chirp', 'Bus', 'Car', 'Cat Meow',\n",
    "        'Chainsaw', 'Clapping', 'Cough', 'Cow Moo', 'Cowbell', 'Crying', 'Dog Bark', 'Doorbell', 'Drip',\n",
    "        'Drums', 'Fire', 'Footsteps', 'Guitar', 'Hammer', 'Helicopter', 'Hiccup', 'Horn Honk', 'Horse Neigh',\n",
    "        'Insect Buzz', 'Jackhammer', 'Laughter', 'Lawn Mower', 'Motorcycle', 'Piano', 'Pig Oink', 'Power Drill',\n",
    "        'Power Saw', 'Rain', 'Rooster Crow', 'Saxophone', 'Sewing Machine', 'Sheep/Goat Bleat', 'Ship/Boat',\n",
    "        'Shout', 'Singing', 'Siren', 'Sneeze', 'Snoring', 'Speech', 'Stream/River', 'Thunder', 'Train', 'Truck',\n",
    "        'Trumpet', 'Vacuum Cleaner', 'Violin', 'Washing Machine', 'Waves', 'Wind']"
   ]
  },
  {
   "cell_type": "markdown",
   "id": "37058d3b-d26f-4174-8c95-5322747c3660",
   "metadata": {},
   "source": [
    "#### Aggregate Labels"
   ]
  },
  {
   "cell_type": "code",
   "execution_count": 7,
   "id": "529896c9-60c7-40c9-862c-86117ba226c9",
   "metadata": {},
   "outputs": [],
   "source": [
    "# Aggregate Labels\n",
    "def aggregate_labels(file_labels):\n",
    "    __y = []\n",
    "    for frame_labels in file_labels:\n",
    "        if(sum(frame_labels) == 0):\n",
    "            __y.append([0])\n",
    "        elif(np.count_nonzero(frame_labels) == len(frame_labels)):\n",
    "             __y.append([1])\n",
    "        else: #The annotators don't agree on the label\n",
    "            __y.append([np.random.choice(frame_labels)])\n",
    "    return __y"
   ]
  },
  {
   "cell_type": "markdown",
   "id": "516c5567-a6ab-4590-8110-d4b147d44f12",
   "metadata": {},
   "source": [
    "### Split Train Data"
   ]
  },
  {
   "cell_type": "markdown",
   "id": "46b858f5-4bcb-4d29-a35a-fa469fedece1",
   "metadata": {},
   "source": [
    "#### Read Files"
   ]
  },
  {
   "cell_type": "code",
   "execution_count": 8,
   "id": "531136e3-6703-49dc-b15c-adeed0e2ea9b",
   "metadata": {},
   "outputs": [],
   "source": [
    "# Read files and split train data\n",
    "import itertools\n",
    "def read_files(file_names, num_to_read=(len(train_files))):\n",
    "    X_train = []\n",
    "    Y_train = {}\n",
    "    for c in categories:\n",
    "        Y_train[c] = []\n",
    "    for f in file_names[:num_to_read]:\n",
    "        if not os.path.exists(os.path.join(features_dir , f.split('.')[0] + '.npz')):\n",
    "            continue\n",
    "        features = np.load(os.path.join(features_dir , f.split('.')[0] + '.npz'))[\"embeddings\"]\n",
    "        X_train.append(features)\n",
    "        y = np.load(os.path.join(labels_dir , f.split('.')[0] + '_labels.npz'))\n",
    "        for c in categories:\n",
    "            _y = aggregate_labels(y[c])\n",
    "            Y_train[c].extend(list(itertools.chain.from_iterable(_y)))\n",
    "    X_train = np.concatenate(X_train)\n",
    "    return X_train, Y_train"
   ]
  },
  {
   "cell_type": "markdown",
   "id": "df2715dc-bee5-498e-8603-5c0168a7edb4",
   "metadata": {},
   "source": [
    "#### Split data without data leakage"
   ]
  },
  {
   "cell_type": "code",
   "execution_count": 9,
   "id": "178e3b8c-4f92-4e2f-9e6f-061c850d6479",
   "metadata": {},
   "outputs": [
    {
     "name": "stdout",
     "output_type": "stream",
     "text": [
      "Number of train files:        6584\n",
      "Number of test files:         1646\n"
     ]
    }
   ],
   "source": [
    "# Split data without data leakage\n",
    "train_files, test_files = train_test_split(metadata[\"filename\"].unique(), test_size=0.2, random_state=42)\n",
    "#So final split: 80% train, 20% test\n",
    "\n",
    "# Print number of train and test files\n",
    "print(f\"{'Number of train files: ':<30}{len(train_files)}\")\n",
    "print(f\"{'Number of test files: ':<30}{len(test_files)}\")"
   ]
  },
  {
   "cell_type": "markdown",
   "id": "3b41c3da-c70c-49c7-a730-4bd6cc8ad0d4",
   "metadata": {},
   "source": [
    "#### Load train & test (subset) data"
   ]
  },
  {
   "cell_type": "code",
   "execution_count": 10,
   "id": "4a1e4c55-5264-4449-a531-9a57fbab473f",
   "metadata": {},
   "outputs": [],
   "source": [
    "# High computational effort!!!"
   ]
  },
  {
   "cell_type": "code",
   "execution_count": 34,
   "id": "9df882b5-1dac-4ddb-b4d8-1910aafa36c8",
   "metadata": {},
   "outputs": [],
   "source": [
    "# Load train & test data\n",
    "X_train_raw, Y_train = read_files(train_files, 500)\n",
    "X_test_raw, Y_test = read_files(test_files, 100)"
   ]
  },
  {
   "cell_type": "markdown",
   "id": "885299fc-0be7-4031-b30a-9eb5138b80b7",
   "metadata": {},
   "source": [
    "### Apply Feature Normalization & PCA dimensionality reduction (with 95% explained variance)"
   ]
  },
  {
   "cell_type": "markdown",
   "id": "c5a2b82a-2b53-42be-9573-e05b1ef8ae33",
   "metadata": {},
   "source": [
    "#### Feature Tensor Scaler"
   ]
  },
  {
   "cell_type": "code",
   "execution_count": 35,
   "id": "01b1e8d9-7890-451c-92da-853420c5f88b",
   "metadata": {},
   "outputs": [],
   "source": [
    "from sklearn.preprocessing import StandardScaler\n",
    "\n",
    "# Compute scaling parameters ONLY on training data\n",
    "scaler = StandardScaler().fit(X_train_raw)"
   ]
  },
  {
   "cell_type": "markdown",
   "id": "edf90f94-27fc-4bff-954f-147b1a5ccf43",
   "metadata": {},
   "source": [
    "#### Scale & Normalize Feature Tensor"
   ]
  },
  {
   "cell_type": "code",
   "execution_count": 36,
   "id": "eb9d4dd8-004c-4558-80f1-c9e75680d3c9",
   "metadata": {},
   "outputs": [
    {
     "name": "stdout",
     "output_type": "stream",
     "text": [
      "(94258, 768)\n",
      "(18775, 768)\n"
     ]
    }
   ],
   "source": [
    "# Scale Train and Test Feature Tensor\n",
    "X_train_scaled = scaler.transform(X_train_raw)\n",
    "X_test_scaled = scaler.transform(X_test_raw)\n",
    "\n",
    "print(X_train_scaled.shape)\n",
    "print(X_test_scaled.shape)"
   ]
  },
  {
   "cell_type": "markdown",
   "id": "9bf7e081-63c0-4fd5-aeda-5bf23de22c53",
   "metadata": {},
   "source": [
    "#### Dimensionality reduction for Feature Tensor with PCA"
   ]
  },
  {
   "cell_type": "code",
   "execution_count": 37,
   "id": "e59224e7-9ab0-4848-b2f6-8d40360aa3b5",
   "metadata": {},
   "outputs": [
    {
     "name": "stdout",
     "output_type": "stream",
     "text": [
      "Train shapes: (94258, 170) 58\n",
      "Test shapes: (18775, 170) 58\n"
     ]
    }
   ],
   "source": [
    "from sklearn.decomposition import PCA\n",
    "\n",
    "# PCA dimensionality reduction with keeping 95% of the variance\n",
    "pca = PCA(n_components=0.95)\n",
    "X_train = pca.fit_transform(X_train_scaled) # fit and transform train feature tensor\n",
    "X_test = pca.transform(X_test_scaled)       # transform test feature tensor\n",
    "\n",
    "# print feature tensor shapes\n",
    "print(\"Train shapes:\", X_train.shape, len(Y_train))\n",
    "print(\"Test shapes:\", X_test.shape, len(Y_test))"
   ]
  },
  {
   "cell_type": "code",
   "execution_count": 38,
   "id": "a5d864fe-83ce-47c2-9321-2448f1bbe40e",
   "metadata": {},
   "outputs": [],
   "source": [
    "from sklearn.metrics import (\n",
    "    accuracy_score, balanced_accuracy_score, precision_score,\n",
    "    average_precision_score, recall_score, f1_score, roc_auc_score\n",
    ")\n",
    "\n",
    "def performance_metrics(y_test, y_test_pred):\n",
    "    accuracy      = accuracy_score(y_test, y_test_pred)\n",
    "    precision     = precision_score(y_test, y_test_pred, zero_division=0)\n",
    "    recall        = recall_score(y_test, y_test_pred)\n",
    "    f1            = f1_score(y_test, y_test_pred)\n",
    "    roc_auc       = roc_auc_score(y_test, y_test_pred)\n",
    "    pr_auc        = average_precision_score(y_test, y_test_pred)\n",
    "    weighted_acc  = balanced_accuracy_score(y_test, y_test_pred)\n",
    "\n",
    "    print(f\"Accuracy:         {accuracy:.3f}\")\n",
    "    print(f\"Weighted Accuracy:{weighted_acc:.3f}\")\n",
    "    print(f\"Precision:        {precision:.3f}\")\n",
    "    print(f\"Recall:           {recall:.3f}\")\n",
    "    print(f\"F1 Score:         {f1:.3f}\")\n",
    "    print(f\"ROC AUC:          {roc_auc:.3f}\")\n",
    "    print(f\"PR AUC:           {pr_auc:.3f}\")\n",
    "    \n",
    "    return {\n",
    "        \"accuracy\": accuracy,\n",
    "        \"weighted_accuracy\": weighted_acc,\n",
    "        \"precision\": precision,\n",
    "        \"recall\": recall,\n",
    "        \"f1\": f1,\n",
    "        \"roc_auc\": roc_auc,\n",
    "        \"pr_auc\": pr_auc\n",
    "    }\n"
   ]
  },
  {
   "cell_type": "markdown",
   "id": "1d5c3834-2a54-4ee8-8e41-32379fe6c40f",
   "metadata": {},
   "source": [
    "### Baseline Classifier"
   ]
  },
  {
   "cell_type": "code",
   "execution_count": 39,
   "id": "bd26f0de-7fe6-4807-88f5-9f803a15bba3",
   "metadata": {},
   "outputs": [],
   "source": [
    "# Baseline Classifier\n",
    "class Baseline_classifier():\n",
    "\n",
    "    def __init__(self):\n",
    "        self.majority_class = None\n",
    "        self.classes_ = None\n",
    "\n",
    "    def fit(self, x_train, y_train):\n",
    "        '''x_train is a numpy array of features with shape NxD, where N is the number of datapoints and D the feature dimension\n",
    "        y_train is a list of binary labels in the shape Nx1\n",
    "        '''\n",
    "        self.majority_class = 1 if sum(y_train) > len(y_train) / 2 else 0\n",
    "        self.classes_= np.array([0, 1]) # possible binary classes (True / False)\n",
    "\n",
    "    def predict(self, x):\n",
    "        '''x is a numpy array of features with shape NxD, where N is the number of datapoints and D the feature dimension\n",
    "        The function should return the predicted binary labels as a numpy array of shape Nx1\n",
    "        '''\n",
    "        predictions = np.zeros(x.shape[0]) + self.majority_class\n",
    "        return predictions"
   ]
  },
  {
   "cell_type": "markdown",
   "id": "9fd3dbc6-65a0-4f0b-ab62-37c86d8f52d4",
   "metadata": {},
   "source": [
    "#### Split Data 'Wind'"
   ]
  },
  {
   "cell_type": "code",
   "execution_count": 40,
   "id": "acb3556f-3f72-4283-bacb-415fc9081428",
   "metadata": {},
   "outputs": [],
   "source": [
    "# Split data 'Wind'\n",
    "wind_x_train, wind_y_train = X_train, np.array(Y_train['Wind'])\n",
    "wind_x_test, wind_y_test = X_test, np.array(Y_test['Wind'])"
   ]
  },
  {
   "cell_type": "markdown",
   "id": "8727c82f-27f6-4575-8c9a-dee65686b482",
   "metadata": {},
   "source": [
    "#### Train baseline model"
   ]
  },
  {
   "cell_type": "code",
   "execution_count": 41,
   "id": "a476b07a-508f-411a-a8ce-b80910422d1e",
   "metadata": {},
   "outputs": [],
   "source": [
    "# Train baseline model\n",
    "baseline = Baseline_classifier()\n",
    "baseline.fit(wind_x_train, wind_y_train)\n",
    "\n",
    "# Predictions\n",
    "y_train_pred = baseline.predict(wind_x_train)\n",
    "y_test_pred = baseline.predict(wind_x_test)"
   ]
  },
  {
   "cell_type": "markdown",
   "id": "f36eb7b9-a448-4127-87b7-f4058abf5112",
   "metadata": {},
   "source": [
    "#### Baseline Confusion Matrix"
   ]
  },
  {
   "cell_type": "code",
   "execution_count": 42,
   "id": "9c59c171-7c86-49b3-bf47-e561cf6dd8df",
   "metadata": {},
   "outputs": [
    {
     "data": {
      "image/png": "[encoded data removed]",
      "text/plain": [
       "<Figure size 800x300 with 2 Axes>"
      ]
     },
     "metadata": {},
     "output_type": "display_data"
    }
   ],
   "source": [
    "# Create subplots\n",
    "fig, axes = plt.subplots(1, 2, figsize=(8, 3))  # Side by side, smaller overall size\n",
    "\n",
    "# Train confusion matrix\n",
    "cm_train = confusion_matrix(wind_y_train, y_train_pred)\n",
    "disp_train = ConfusionMatrixDisplay(confusion_matrix=cm_train, display_labels=baseline.classes_)\n",
    "disp_train.plot(cmap='Blues', ax=axes[0], colorbar=False)\n",
    "axes[0].set_title(\"Confusion Matrix - Train Set\")\n",
    "\n",
    "# Test confusion matrix\n",
    "cm_test = confusion_matrix(wind_y_test, y_test_pred)\n",
    "disp_test = ConfusionMatrixDisplay(confusion_matrix=cm_test, display_labels=baseline.classes_)\n",
    "disp_test.plot(cmap='Blues', ax=axes[1], colorbar=False)\n",
    "axes[1].set_title(\"Confusion Matrix - Test Set\")\n",
    "\n",
    "plt.tight_layout()\n",
    "\n",
    "plt.savefig('Confusion Matrix_Baseline_Classifier_Subset')\n",
    "plt.show()"
   ]
  },
  {
   "cell_type": "markdown",
   "id": "f2c49aad-a845-4454-b099-a8d420f6c029",
   "metadata": {},
   "source": [
    "#### Baseline Classification Report"
   ]
  },
  {
   "cell_type": "code",
   "execution_count": 43,
   "id": "f09826a1-d05e-4e16-aea6-ce26e9a53156",
   "metadata": {},
   "outputs": [
    {
     "name": "stdout",
     "output_type": "stream",
     "text": [
      "Baseline Classification Report\n",
      "Training Report:\n",
      "              precision    recall  f1-score   support\n",
      "\n",
      "         0.0       0.95      1.00      0.97     89209\n",
      "         1.0       0.00      0.00      0.00      5049\n",
      "\n",
      "    accuracy                           0.95     94258\n",
      "   macro avg       0.47      0.50      0.49     94258\n",
      "weighted avg       0.90      0.95      0.92     94258\n",
      "\n",
      "\n",
      "Test Report:\n",
      "              precision    recall  f1-score   support\n",
      "\n",
      "         0.0       0.92      1.00      0.96     17225\n",
      "         1.0       0.00      0.00      0.00      1550\n",
      "\n",
      "    accuracy                           0.92     18775\n",
      "   macro avg       0.46      0.50      0.48     18775\n",
      "weighted avg       0.84      0.92      0.88     18775\n",
      "\n"
     ]
    }
   ],
   "source": [
    "from sklearn.metrics import classification_report\n",
    "\n",
    "# Baseline Classification Report\n",
    "print(\"Baseline Classification Report\")\n",
    "print(\"Training Report:\")\n",
    "print(classification_report(wind_y_train, y_train_pred))\n",
    "print(\"\\nTest Report:\")\n",
    "print(classification_report(wind_y_test, y_test_pred))"
   ]
  },
  {
   "cell_type": "markdown",
   "id": "13dcdbbc-afff-4a65-a3f6-2ba20e7d1371",
   "metadata": {},
   "source": [
    "### kNN Classifier"
   ]
  },
  {
   "cell_type": "code",
   "execution_count": 44,
   "id": "0de1934a-650e-4240-aed7-fa1e2215a133",
   "metadata": {},
   "outputs": [],
   "source": [
    "# High computational effort!!!"
   ]
  },
  {
   "cell_type": "code",
   "execution_count": 45,
   "id": "c517a13f-cd2c-46e7-8b69-7a273de80e9a",
   "metadata": {},
   "outputs": [],
   "source": [
    "# kNN Classifier\n",
    "knn = KNeighborsClassifier(n_neighbors=10)\n",
    "knn.fit(wind_x_train, wind_y_train)\n",
    "\n",
    "y_train_pred = knn.predict(wind_x_train)\n",
    "y_test_pred = knn.predict(wind_x_test)"
   ]
  },
  {
   "cell_type": "markdown",
   "id": "9d64ffa7-332e-4c42-bb8b-dcfa2e4c9e61",
   "metadata": {},
   "source": [
    "#### kNN Confusion Matrix"
   ]
  },
  {
   "cell_type": "code",
   "execution_count": 46,
   "id": "055fbb5d-0bae-4552-a620-3c128d061a04",
   "metadata": {},
   "outputs": [
    {
     "data": {
      "image/png": "[encoded data removed]",
      "text/plain": [
       "<Figure size 800x300 with 2 Axes>"
      ]
     },
     "metadata": {},
     "output_type": "display_data"
    },
    {
     "name": "stdout",
     "output_type": "stream",
     "text": [
      "Performance Metrics – k-NN Classifier\n",
      "Accuracy:         0.876\n",
      "Weighted Accuracy:0.522\n",
      "Precision:        0.141\n",
      "Recall:           0.099\n",
      "F1 Score:         0.117\n",
      "ROC AUC:          0.522\n",
      "PR AUC:           0.088\n"
     ]
    }
   ],
   "source": [
    "# Create subplots\n",
    "fig, axes = plt.subplots(1, 2, figsize=(8, 3))  # Side by side, smaller overall size\n",
    "\n",
    "# Train confusion matrix\n",
    "cm_train = confusion_matrix(wind_y_train, y_train_pred)\n",
    "disp_train = ConfusionMatrixDisplay(confusion_matrix=cm_train, display_labels=knn.classes_)\n",
    "disp_train.plot(cmap='Blues', ax=axes[0], colorbar=False)\n",
    "axes[0].set_title(\"Confusion Matrix - Train Set\")\n",
    "\n",
    "# Test confusion matrix\n",
    "cm_test = confusion_matrix(wind_y_test, y_test_pred)\n",
    "disp_test = ConfusionMatrixDisplay(confusion_matrix=cm_test, display_labels=knn.classes_)\n",
    "disp_test.plot(cmap='Blues', ax=axes[1], colorbar=False)\n",
    "axes[1].set_title(\"Confusion Matrix - Test Set\")\n",
    "\n",
    "plt.tight_layout()\n",
    "\n",
    "plt.savefig('Confusion Matrix_kNN_Classifier_k10_Subset')\n",
    "plt.show()\n",
    "\n",
    "print(\"Performance Metrics – k-NN Classifier\")\n",
    "knn_perf = performance_metrics(wind_y_test, y_test_pred)"
   ]
  },
  {
   "cell_type": "markdown",
   "id": "125f1c20-625d-4a08-a919-fe91e5cf346d",
   "metadata": {},
   "source": [
    "#### kNN Classification Report"
   ]
  },
  {
   "cell_type": "code",
   "execution_count": 47,
   "id": "31ae84d8-ee7c-47d1-840f-e2b3c8658ba2",
   "metadata": {},
   "outputs": [
    {
     "name": "stdout",
     "output_type": "stream",
     "text": [
      "kNN Classification Report\n",
      "Training Report:\n",
      "              precision    recall  f1-score   support\n",
      "\n",
      "         0.0       1.00      1.00      1.00     89209\n",
      "         1.0       0.99      0.98      0.98      5049\n",
      "\n",
      "    accuracy                           1.00     94258\n",
      "   macro avg       0.99      0.99      0.99     94258\n",
      "weighted avg       1.00      1.00      1.00     94258\n",
      "\n",
      "\n",
      "Test Report:\n",
      "              precision    recall  f1-score   support\n",
      "\n",
      "         0.0       0.92      0.95      0.93     17225\n",
      "         1.0       0.14      0.10      0.12      1550\n",
      "\n",
      "    accuracy                           0.88     18775\n",
      "   macro avg       0.53      0.52      0.52     18775\n",
      "weighted avg       0.86      0.88      0.87     18775\n",
      "\n"
     ]
    }
   ],
   "source": [
    "from sklearn.metrics import classification_report\n",
    "\n",
    "# kNN Classification Report\n",
    "print(\"kNN Classification Report\")\n",
    "print(\"Training Report:\")\n",
    "print(classification_report(wind_y_train, y_train_pred))\n",
    "print(\"\\nTest Report:\")\n",
    "print(classification_report(wind_y_test, y_test_pred))"
   ]
  },
  {
   "cell_type": "markdown",
   "id": "7550c195-0dc9-4090-b959-72f4678b577d",
   "metadata": {},
   "source": [
    "#### CUDA availability check"
   ]
  },
  {
   "cell_type": "code",
   "execution_count": 48,
   "id": "38f72bc3-5f65-4076-992a-46b4e45f69d8",
   "metadata": {},
   "outputs": [
    {
     "name": "stdout",
     "output_type": "stream",
     "text": [
      "CUDA version: None\n",
      "Using CPU\n"
     ]
    }
   ],
   "source": [
    "import torch\n",
    "print(\"CUDA version:\",torch.version.cuda)  # Should show your CUDA version\n",
    "\n",
    "# CUDA availability check\n",
    "if torch.cuda.is_available():\n",
    "    device = torch.device('cuda')\n",
    "    print(f\"Using GPU: {torch.cuda.get_device_name(0)}\")\n",
    "else:\n",
    "    device = torch.device('cpu')\n",
    "    print(\"Using CPU\")"
   ]
  },
  {
   "cell_type": "code",
   "execution_count": 49,
   "id": "f708e00c-ad37-4feb-bffc-8dc30d131855",
   "metadata": {},
   "outputs": [
    {
     "data": {
      "image/png": "[encoded data removed]",
      "text/plain": [
       "<Figure size 800x300 with 2 Axes>"
      ]
     },
     "metadata": {},
     "output_type": "display_data"
    },
    {
     "name": "stdout",
     "output_type": "stream",
     "text": [
      "Performance Metrics – Random Forest (PCA Applied)\n",
      "Accuracy:         0.903\n",
      "Weighted Accuracy:0.492\n",
      "Precision:        0.004\n",
      "Recall:           0.001\n",
      "F1 Score:         0.001\n",
      "ROC AUC:          0.492\n",
      "PR AUC:           0.083\n"
     ]
    }
   ],
   "source": [
    "#PCA li RF\n",
    "scaler = StandardScaler().fit(X_train_raw)\n",
    "X_train_scaled = scaler.transform(X_train_raw)\n",
    "X_test_scaled = scaler.transform(X_test_raw)\n",
    "\n",
    "# 2. Apply PCA to reduce dimensionality while keeping 95% of variance\n",
    "pca = PCA(n_components=0.95)\n",
    "X_train = pca.fit_transform(X_train_scaled)\n",
    "X_test = pca.transform(X_test_scaled)\n",
    "\n",
    "# 3. Train Random Forest on PCA-reduced features\n",
    "rf_pca = RandomForestClassifier(\n",
    "    n_estimators=200,\n",
    "    max_depth=None,\n",
    "    min_samples_split=5,\n",
    "    class_weight='balanced',\n",
    "    random_state=42\n",
    ")\n",
    "rf_pca.fit(X_train, wind_y_train)\n",
    "\n",
    "# 4. Make predictions\n",
    "y_train_pred_pca = rf_pca.predict(X_train)\n",
    "y_test_pred_pca = rf_pca.predict(X_test)\n",
    "\n",
    "# 5. Plot Confusion Matrices\n",
    "fig, axes = plt.subplots(1, 2, figsize=(8, 3))\n",
    "\n",
    "disp_train = ConfusionMatrixDisplay(confusion_matrix(wind_y_train, y_train_pred_pca), display_labels=rf_pca.classes_)\n",
    "disp_train.plot(cmap='Greens', ax=axes[0], colorbar=False)\n",
    "axes[0].set_title(\"Confusion Matrix - Train Set (RF + PCA)\")\n",
    "\n",
    "disp_test = ConfusionMatrixDisplay(confusion_matrix(wind_y_test, y_test_pred_pca), display_labels=rf_pca.classes_)\n",
    "disp_test.plot(cmap='Greens', ax=axes[1], colorbar=False)\n",
    "axes[1].set_title(\"Confusion Matrix - Test Set (RF + PCA)\")\n",
    "\n",
    "plt.tight_layout()\n",
    "plt.show()\n",
    "\n",
    "# 6. Performance Metrics\n",
    "print(\"Performance Metrics – Random Forest (PCA Applied)\")\n",
    "rf_pca_perf = performance_metrics(wind_y_test, y_test_pred_pca)"
   ]
  },
  {
   "cell_type": "code",
   "execution_count": 50,
   "id": "8114bee3-5241-471b-a184-f94c773eae61",
   "metadata": {},
   "outputs": [
    {
     "name": "stdout",
     "output_type": "stream",
     "text": [
      "Fitting 3 folds for each of 8 candidates, totalling 24 fits\n",
      "Best Parameters: {'learning_rate': 0.05, 'max_depth': 5, 'n_estimators': 100}\n"
     ]
    },
    {
     "data": {
      "image/png": "[encoded data removed]",
      "text/plain": [
       "<Figure size 800x300 with 2 Axes>"
      ]
     },
     "metadata": {},
     "output_type": "display_data"
    },
    {
     "name": "stdout",
     "output_type": "stream",
     "text": [
      "Performance Metrics – XGBoost (Balanced)\n",
      "Accuracy:         0.896\n",
      "Weighted Accuracy:0.540\n",
      "Precision:        0.231\n",
      "Recall:           0.113\n",
      "F1 Score:         0.152\n",
      "ROC AUC:          0.540\n",
      "PR AUC:           0.099\n"
     ]
    }
   ],
   "source": [
    "from xgboost import XGBClassifier\n",
    "from sklearn.model_selection import GridSearchCV\n",
    "\n",
    "# Pozitif sınıf çok az olduğu için scale_pos_weight önemli\n",
    "# Bu değer genelde: (negatif örnek sayısı) / (pozitif örnek sayısı)\n",
    "# Aşağıda otomatik hesaplama yapıyoruz:\n",
    "\n",
    "pos_weight = (wind_y_train == 0).sum() / (wind_y_train == 1).sum()\n",
    "\n",
    "xgb = XGBClassifier(\n",
    "    use_label_encoder=False,\n",
    "    eval_metric='logloss',\n",
    "    scale_pos_weight=pos_weight,  # ⚠️ DENGELEME!\n",
    "    random_state=42\n",
    ")\n",
    "\n",
    "param_grid = {\n",
    "    'max_depth': [5, 7],\n",
    "    'learning_rate': [0.05, 0.1],\n",
    "    'n_estimators': [100, 200]\n",
    "}\n",
    "\n",
    "grid = GridSearchCV(xgb, param_grid, cv=3, scoring='f1', verbose=1, n_jobs=-1)\n",
    "grid.fit(wind_x_train, wind_y_train)\n",
    "\n",
    "print(\"Best Parameters:\", grid.best_params_)\n",
    "\n",
    "best_xgb = grid.best_estimator_\n",
    "\n",
    "y_train_pred = best_xgb.predict(wind_x_train)\n",
    "y_test_pred = best_xgb.predict(wind_x_test)\n",
    "\n",
    "# Confusion matrix\n",
    "fig, axes = plt.subplots(1, 2, figsize=(8, 3))\n",
    "disp_train = ConfusionMatrixDisplay(confusion_matrix(wind_y_train, y_train_pred), display_labels=best_xgb.classes_)\n",
    "disp_train.plot(cmap='Oranges', ax=axes[0], colorbar=False)\n",
    "axes[0].set_title(\"Confusion Matrix - Train Set (XGB Balanced)\")\n",
    "\n",
    "disp_test = ConfusionMatrixDisplay(confusion_matrix(wind_y_test, y_test_pred), display_labels=best_xgb.classes_)\n",
    "disp_test.plot(cmap='Oranges', ax=axes[1], colorbar=False)\n",
    "axes[1].set_title(\"Confusion Matrix - Test Set (XGB Balanced)\")\n",
    "\n",
    "plt.tight_layout()\n",
    "plt.show()\n",
    "\n",
    "print(\"Performance Metrics – XGBoost (Balanced)\")\n",
    "xgb_perf = performance_metrics(wind_y_test, y_test_pred)"
   ]
  },
  {
   "cell_type": "markdown",
   "id": "fd25602a-6dfd-49a4-a36e-f7c53a0dd6a0",
   "metadata": {},
   "source": [
    "## threshold 0.3"
   ]
  },
  {
   "cell_type": "code",
   "execution_count": 51,
   "id": "04a919af-aaa2-4100-8d64-a74a7d752c9b",
   "metadata": {},
   "outputs": [
    {
     "data": {
      "image/png": "[encoded data removed]",
      "text/plain": [
       "<Figure size 500x400 with 1 Axes>"
      ]
     },
     "metadata": {},
     "output_type": "display_data"
    }
   ],
   "source": [
    "# 1. Normalize features\n",
    "scaler = StandardScaler().fit(X_train_raw)\n",
    "X_train_scaled = scaler.transform(X_train_raw)\n",
    "X_test_scaled = scaler.transform(X_test_raw)\n",
    "\n",
    "# 2. PCA to preserve 95% variance\n",
    "pca = PCA(n_components=0.95)\n",
    "X_train = pca.fit_transform(X_train_scaled)\n",
    "X_test = pca.transform(X_test_scaled)\n",
    "\n",
    "# 3. Get labels\n",
    "wind_y_train = np.array(Y_train['Wind'])\n",
    "wind_y_test = np.array(Y_test['Wind'])\n",
    "\n",
    "# 4. Handle class imbalance\n",
    "pos_weight = (wind_y_train == 0).sum() / (wind_y_train == 1).sum()\n",
    "\n",
    "# 5. Train XGBoost with best-known parameters\n",
    "best_xgb = XGBClassifier(\n",
    "    use_label_encoder=False,\n",
    "    eval_metric='logloss',\n",
    "    scale_pos_weight=pos_weight,\n",
    "    learning_rate=0.05,\n",
    "    max_depth=5,\n",
    "    n_estimators=100,\n",
    "    random_state=42\n",
    ")\n",
    "best_xgb.fit(X_train, wind_y_train)\n",
    "\n",
    "# 6. Predict probabilities and apply optimal threshold (0.3)\n",
    "y_proba = best_xgb.predict_proba(X_test)[:, 1]\n",
    "y_test_pred = (y_proba >= 0.3).astype(int)\n",
    "\n",
    "# 7. Confusion matrix\n",
    "fig, ax = plt.subplots(figsize=(5, 4))\n",
    "disp = ConfusionMatrixDisplay(confusion_matrix(wind_y_test, y_test_pred), display_labels=best_xgb.classes_)\n",
    "disp.plot(cmap='Oranges', ax=ax, colorbar=False)\n",
    "ax.set_title(\"Confusion Matrix – XGBoost + PCA (Threshold = 0.3)\")\n",
    "plt.tight_layout()\n",
    "plt.show()\n",
    "\n"
   ]
  },
  {
   "cell_type": "code",
   "execution_count": null,
   "id": "e9e5928c-98f2-4d6f-b235-e62190a5d784",
   "metadata": {},
   "outputs": [],
   "source": []
  }
 ],
 "metadata": {
  "kernelspec": {
   "display_name": "Python 3 (ipykernel)",
   "language": "python",
   "name": "python3"
  },
  "language_info": {
   "codemirror_mode": {
    "name": "ipython",
    "version": 3
   },
   "file_extension": ".py",
   "mimetype": "text/x-python",
   "name": "python",
   "nbconvert_exporter": "python",
   "pygments_lexer": "ipython3",
   "version": "3.12.0"
  }
 },
 "nbformat": 4,
 "nbformat_minor": 5
}
