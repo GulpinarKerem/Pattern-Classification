{
 "cells": [
  {
   "cell_type": "code",
   "execution_count": 1,
   "id": "5ed14a9f-36ce-42ba-8914-fae1fb49abb0",
   "metadata": {},
   "outputs": [],
   "source": [
    "import os\n",
    "import numpy as np\n",
    "import matplotlib.pyplot as plt\n",
    "import pandas as pd\n",
    "from sklearn.neighbors import KNeighborsClassifier\n",
    "from sklearn.tree import DecisionTreeClassifier\n",
    "from sklearn.ensemble import RandomForestClassifier\n",
    "from sklearn.multiclass import OneVsRestClassifier\n",
    "from sklearn.metrics import (\n",
    "    accuracy_score, balanced_accuracy_score, precision_score, average_precision_score,\n",
    "    recall_score, f1_score, roc_auc_score, confusion_matrix, ConfusionMatrixDisplay\n",
    ")\n",
    "from sklearn.model_selection import cross_val_score, train_test_split\n",
    "\n",
    "import IPython\n",
    "os.environ['NUMBA_CACHE_DIR'] = IPython.paths.get_ipython_cache_dir()\n",
    "\n",
    "import warnings\n",
    "warnings.filterwarnings('ignore')"
   ]
  },
  {
   "cell_type": "code",
   "execution_count": 2,
   "id": "7625f0c7-0731-40c8-80ab-071f57612f22",
   "metadata": {},
   "outputs": [],
   "source": [
    "# Get the user's home directory (e.g., 'C:\\Users\\user')\n",
    "DATA_DIR = r\"C:\\Users\\ferit\\MLPC2025_classification\"\n",
    "metadata_dir = os.path.join(DATA_DIR, 'metadata.csv')\n",
    "features_dir = os.path.join(DATA_DIR, 'audio_features')\n",
    "labels_dir = os.path.join(DATA_DIR, 'labels')"
   ]
  },
  {
   "cell_type": "markdown",
   "id": "714cf054-05e9-46b5-b8f6-b185aaba1ea4",
   "metadata": {},
   "source": [
    "#### Load Metadata"
   ]
  },
  {
   "cell_type": "code",
   "execution_count": 3,
   "id": "3f25611e-3986-4659-b24a-9acabf63ad7b",
   "metadata": {},
   "outputs": [],
   "source": [
    "# Load Metadata & Training Files\n",
    "metadata = pd.read_csv(metadata_dir)\n",
    "train_files = metadata.sample(len(metadata), random_state=42)[\"filename\"].unique()"
   ]
  },
  {
   "cell_type": "markdown",
   "id": "474d7220-f1de-4ec7-95e7-14724e32b6db",
   "metadata": {},
   "source": [
    "#### Load categories"
   ]
  },
  {
   "cell_type": "code",
   "execution_count": 4,
   "id": "c49b997d-b89f-407a-a009-e37f473392e1",
   "metadata": {},
   "outputs": [
    {
     "name": "stdout",
     "output_type": "stream",
     "text": [
      "Names of Label Classes: \n",
      " ['Airplane', 'Alarm', 'Beep/Bleep', 'Bell', 'Bicycle', 'Bird Chirp', 'Bus', 'Car', 'Cat Meow', 'Chainsaw', 'Clapping', 'Cough', 'Cow Moo', 'Cowbell', 'Crying', 'Dog Bark', 'Doorbell', 'Drip', 'Drums', 'Fire', 'Footsteps', 'Guitar', 'Hammer', 'Helicopter', 'Hiccup', 'Horn Honk', 'Horse Neigh', 'Insect Buzz', 'Jackhammer', 'Laughter', 'Lawn Mower', 'Motorcycle', 'Piano', 'Pig Oink', 'Power Drill', 'Power Saw', 'Rain', 'Rooster Crow', 'Saxophone', 'Sewing Machine', 'Sheep/Goat Bleat', 'Ship/Boat', 'Shout', 'Singing', 'Siren', 'Sneeze', 'Snoring', 'Speech', 'Stream/River', 'Thunder', 'Train', 'Truck', 'Trumpet', 'Vacuum Cleaner', 'Violin', 'Washing Machine', 'Waves', 'Wind']\n"
     ]
    }
   ],
   "source": [
    "# Select a random audio file and its annotations\n",
    "np.random.seed(1)\n",
    "sample_file = np.random.choice(metadata['filename'].tolist())\n",
    "\n",
    "# Load corresponding label file\n",
    "label_filename = sample_file.replace('.mp3', '_labels.npz')\n",
    "label_path = os.path.join(DATA_DIR, 'labels', label_filename)\n",
    "labels = np.load(label_path)\n",
    "\n",
    "# Load categories\n",
    "categories = list(labels.keys())\n",
    "print(\"Names of Label Classes: \\n\", categories)"
   ]
  },
  {
   "cell_type": "markdown",
   "id": "37058d3b-d26f-4174-8c95-5322747c3660",
   "metadata": {},
   "source": [
    "#### Aggregate Labels"
   ]
  },
  {
   "cell_type": "code",
   "execution_count": 5,
   "id": "529896c9-60c7-40c9-862c-86117ba226c9",
   "metadata": {},
   "outputs": [],
   "source": [
    "# Aggregate Labels\n",
    "def aggregate_labels(file_labels):\n",
    "    __y = []\n",
    "    for frame_labels in file_labels:\n",
    "        if(sum(frame_labels) == 0):\n",
    "            __y.append([0])\n",
    "        elif(np.count_nonzero(frame_labels) == len(frame_labels)):\n",
    "             __y.append([1])\n",
    "        else: #The annotators don't agree on the label\n",
    "            __y.append([np.random.choice(frame_labels)])\n",
    "    return __y"
   ]
  },
  {
   "cell_type": "markdown",
   "id": "516c5567-a6ab-4590-8110-d4b147d44f12",
   "metadata": {},
   "source": [
    "### Split Train Data"
   ]
  },
  {
   "cell_type": "markdown",
   "id": "46b858f5-4bcb-4d29-a35a-fa469fedece1",
   "metadata": {},
   "source": [
    "#### Read Files"
   ]
  },
  {
   "cell_type": "code",
   "execution_count": 6,
   "id": "531136e3-6703-49dc-b15c-adeed0e2ea9b",
   "metadata": {},
   "outputs": [],
   "source": [
    "# Read files and split train data\n",
    "import itertools\n",
    "def read_files(file_names, num_to_read=(len(train_files))):\n",
    "    X_train = []\n",
    "    Y_train = {}\n",
    "    for c in categories:\n",
    "        Y_train[c] = []\n",
    "    for f in file_names[:num_to_read]:\n",
    "        if not os.path.exists(os.path.join(features_dir , f.split('.')[0] + '.npz')):\n",
    "            continue\n",
    "        features = np.load(os.path.join(features_dir , f.split('.')[0] + '.npz'))[\"embeddings\"]\n",
    "        X_train.append(features)\n",
    "        y = np.load(os.path.join(labels_dir , f.split('.')[0] + '_labels.npz'))\n",
    "        for c in categories:\n",
    "            _y = aggregate_labels(y[c])\n",
    "            Y_train[c].extend(list(itertools.chain.from_iterable(_y)))\n",
    "    X_train = np.concatenate(X_train)\n",
    "    return X_train, Y_train"
   ]
  },
  {
   "cell_type": "markdown",
   "id": "df2715dc-bee5-498e-8603-5c0168a7edb4",
   "metadata": {},
   "source": [
    "#### Split data without data leakage"
   ]
  },
  {
   "cell_type": "code",
   "execution_count": 7,
   "id": "178e3b8c-4f92-4e2f-9e6f-061c850d6479",
   "metadata": {},
   "outputs": [
    {
     "name": "stdout",
     "output_type": "stream",
     "text": [
      "Number of train files:        6584\n",
      "Number of test files:         1646\n"
     ]
    }
   ],
   "source": [
    "# Split data without data leakage\n",
    "train_files, test_files = train_test_split(metadata[\"filename\"].unique(), test_size=0.2, random_state=42)\n",
    "#So final split: 80% train, 20% test\n",
    "\n",
    "# Print number of train and test files\n",
    "print(f\"{'Number of train files: ':<30}{len(train_files)}\")\n",
    "print(f\"{'Number of test files: ':<30}{len(test_files)}\")"
   ]
  },
  {
   "cell_type": "markdown",
   "id": "3b41c3da-c70c-49c7-a730-4bd6cc8ad0d4",
   "metadata": {},
   "source": [
    "#### Load train & test (subset) data"
   ]
  },
  {
   "cell_type": "code",
   "execution_count": 8,
   "id": "4a1e4c55-5264-4449-a531-9a57fbab473f",
   "metadata": {},
   "outputs": [],
   "source": [
    "# High computational effort!!!"
   ]
  },
  {
   "cell_type": "code",
   "execution_count": 9,
   "id": "9df882b5-1dac-4ddb-b4d8-1910aafa36c8",
   "metadata": {},
   "outputs": [
    {
     "name": "stdout",
     "output_type": "stream",
     "text": [
      "Train shapes (raw): (149303, 768) 58\n",
      "Test shapes  (raw): (37022, 768) 58\n"
     ]
    }
   ],
   "source": [
    "# Load train & test data\n",
    "X_train_raw, Y_train = read_files(train_files, 800)\n",
    "X_test_raw, Y_test = read_files(test_files, 200)\n",
    "\n",
    "# print raw feature tensor shapes\n",
    "print(\"Train shapes (raw):\", X_train_raw.shape, len(Y_train))\n",
    "print(\"Test shapes  (raw):\", X_test_raw.shape, len(Y_test))"
   ]
  },
  {
   "cell_type": "markdown",
   "id": "885299fc-0be7-4031-b30a-9eb5138b80b7",
   "metadata": {},
   "source": [
    "### Apply Feature Normalization & PCA dimensionality reduction (with 95% explained variance)"
   ]
  },
  {
   "cell_type": "markdown",
   "id": "c5a2b82a-2b53-42be-9573-e05b1ef8ae33",
   "metadata": {},
   "source": [
    "#### Feature Tensor Scaler"
   ]
  },
  {
   "cell_type": "code",
   "execution_count": 10,
   "id": "01b1e8d9-7890-451c-92da-853420c5f88b",
   "metadata": {},
   "outputs": [],
   "source": [
    "from sklearn.preprocessing import StandardScaler\n",
    "\n",
    "# Compute scaling parameters ONLY on training data\n",
    "scaler = StandardScaler().fit(X_train_raw)"
   ]
  },
  {
   "cell_type": "markdown",
   "id": "edf90f94-27fc-4bff-954f-147b1a5ccf43",
   "metadata": {},
   "source": [
    "#### Scale & Normalize Feature Tensor"
   ]
  },
  {
   "cell_type": "code",
   "execution_count": 11,
   "id": "eb9d4dd8-004c-4558-80f1-c9e75680d3c9",
   "metadata": {},
   "outputs": [
    {
     "name": "stdout",
     "output_type": "stream",
     "text": [
      "Train shapes (scaled): (149303, 768) 58\n",
      "Test shapes  (scaled): (37022, 768) 58\n"
     ]
    }
   ],
   "source": [
    "# Scale Train and Test Feature Tensor\n",
    "X_train_scaled = scaler.transform(X_train_raw)\n",
    "X_test_scaled = scaler.transform(X_test_raw)\n",
    "\n",
    "# print scaled feature tensor shapes\n",
    "print(\"Train shapes (scaled):\", X_train_scaled.shape, len(Y_train))\n",
    "print(\"Test shapes  (scaled):\", X_test_scaled.shape, len(Y_test))"
   ]
  },
  {
   "cell_type": "markdown",
   "id": "9bf7e081-63c0-4fd5-aeda-5bf23de22c53",
   "metadata": {},
   "source": [
    "#### Dimensionality reduction for Feature Tensor with PCA"
   ]
  },
  {
   "cell_type": "code",
   "execution_count": 12,
   "id": "e59224e7-9ab0-4848-b2f6-8d40360aa3b5",
   "metadata": {},
   "outputs": [
    {
     "name": "stdout",
     "output_type": "stream",
     "text": [
      "Train shapes (reduced): (149303, 184) 58\n",
      "Test shapes  (reduced): (37022, 184) 58\n"
     ]
    }
   ],
   "source": [
    "from sklearn.decomposition import PCA\n",
    "\n",
    "# PCA dimensionality reduction with keeping 95% of the variance\n",
    "pca = PCA(n_components=0.95)\n",
    "X_train = pca.fit_transform(X_train_scaled) # fit and transform train feature tensor\n",
    "X_test = pca.transform(X_test_scaled)       # transform test feature tensor\n",
    "\n",
    "# print reduced feature tensor shapes\n",
    "print(\"Train shapes (reduced):\", X_train.shape, len(Y_train))\n",
    "print(\"Test shapes  (reduced):\", X_test.shape, len(Y_test))"
   ]
  },
  {
   "cell_type": "markdown",
   "id": "936ec216-b8c6-4b01-aef9-030de54dbd6f",
   "metadata": {},
   "source": [
    "### Training Experiments"
   ]
  },
  {
   "cell_type": "markdown",
   "id": "9fd3dbc6-65a0-4f0b-ab62-37c86d8f52d4",
   "metadata": {},
   "source": [
    "#### Split Data 'Speech'"
   ]
  },
  {
   "cell_type": "code",
   "execution_count": 13,
   "id": "acb3556f-3f72-4283-bacb-415fc9081428",
   "metadata": {},
   "outputs": [],
   "source": [
    "# Split data 'Speech'\n",
    "speech_X_train, speech_Y_train = X_train, np.array(Y_train['Speech'])\n",
    "speech_X_test, speech_Y_test = X_test, np.array(Y_test['Speech'])"
   ]
  },
  {
   "cell_type": "markdown",
   "id": "ff1b43a7-775d-4fb7-b195-694bda5a68b2",
   "metadata": {},
   "source": [
    "#### Confusion Matrix for Classifier"
   ]
  },
  {
   "cell_type": "code",
   "execution_count": 14,
   "id": "58b53ddd-fa5c-431c-b1dd-20b35f2d38be",
   "metadata": {},
   "outputs": [],
   "source": [
    "def classifier_confusion_matrix(Y_train, Y_train_pred, Y_test, Y_test_pred):\n",
    "    # Create subplots\n",
    "    fig, axes = plt.subplots(1, 2, figsize=(8, 3))\n",
    "    \n",
    "    # Train confusion matrix\n",
    "    cm_train = confusion_matrix(Y_train, Y_train_pred)\n",
    "    disp_train = ConfusionMatrixDisplay(confusion_matrix=cm_train)\n",
    "    disp_train.plot(cmap='Blues', ax=axes[0], colorbar=False)\n",
    "    axes[0].set_title(\"Confusion Matrix - Train Set\")\n",
    "    \n",
    "    # Test confusion matrix\n",
    "    cm_test = confusion_matrix(Y_test, Y_test_pred)\n",
    "    disp_test = ConfusionMatrixDisplay(confusion_matrix=cm_test)\n",
    "    disp_test.plot(cmap='Blues', ax=axes[1], colorbar=False)\n",
    "    axes[1].set_title(\"Confusion Matrix - Test Set\")\n",
    "    \n",
    "    plt.tight_layout()"
   ]
  },
  {
   "cell_type": "markdown",
   "id": "1e4a424b-6ee6-41ab-b9eb-63b04a2365d1",
   "metadata": {},
   "source": [
    "#### Performance Metrics for Classifier"
   ]
  },
  {
   "cell_type": "code",
   "execution_count": 15,
   "id": "631ddf0d-a94e-4e11-8b95-ed400232a789",
   "metadata": {},
   "outputs": [],
   "source": [
    "from sklearn.metrics import (\n",
    "    accuracy_score, balanced_accuracy_score, precision_score,\n",
    "    average_precision_score, recall_score, f1_score, roc_auc_score\n",
    ")\n",
    "\n",
    "def performance_metrics(y_test, y_test_pred):\n",
    "    accuracy      = accuracy_score(y_test, y_test_pred)\n",
    "    precision     = precision_score(y_test, y_test_pred, zero_division=0)\n",
    "    recall        = recall_score(y_test, y_test_pred)\n",
    "    f1            = f1_score(y_test, y_test_pred)\n",
    "    roc_auc       = roc_auc_score(y_test, y_test_pred)\n",
    "    pr_auc        = average_precision_score(y_test, y_test_pred)\n",
    "    weighted_acc  = balanced_accuracy_score(y_test, y_test_pred)\n",
    "\n",
    "    print(f\"Accuracy:         {accuracy:.3f}\")\n",
    "    print(f\"Weighted Accuracy:{weighted_acc:.3f}\")\n",
    "    print(f\"Precision:        {precision:.3f}\")\n",
    "    print(f\"Recall:           {recall:.3f}\")\n",
    "    print(f\"F1 Score:         {f1:.3f}\")\n",
    "    print(f\"ROC AUC:          {roc_auc:.3f}\")\n",
    "    print(f\"PR AUC:           {pr_auc:.3f}\")\n",
    "    \n",
    "    return {\n",
    "        \"accuracy\": accuracy,\n",
    "        \"weighted_accuracy\": weighted_acc,\n",
    "        \"precision\": precision,\n",
    "        \"recall\": recall,\n",
    "        \"f1\": f1,\n",
    "        \"roc_auc\": roc_auc,\n",
    "        \"pr_auc\": pr_auc\n",
    "    }"
   ]
  },
  {
   "cell_type": "markdown",
   "id": "1d5c3834-2a54-4ee8-8e41-32379fe6c40f",
   "metadata": {},
   "source": [
    "#### Baseline Classifier"
   ]
  },
  {
   "cell_type": "code",
   "execution_count": 16,
   "id": "bd26f0de-7fe6-4807-88f5-9f803a15bba3",
   "metadata": {},
   "outputs": [],
   "source": [
    "# Baseline Classifier\n",
    "class Baseline_classifier():\n",
    "\n",
    "    def __init__(self):\n",
    "        self.majority_class = None\n",
    "\n",
    "    def fit(self, x_train, y_train):\n",
    "        '''x_train is a numpy array of features with shape NxD, where N is the number of datapoints and D the feature dimension\n",
    "        y_train is a list of binary labels in the shape Nx1\n",
    "        '''\n",
    "        \n",
    "        self.majority_class = 1 if sum(y_train) > len(y_train) / 2 else 0\n",
    "\n",
    "    def predict(self, x):\n",
    "        '''x is a numpy array of features with shape NxD, where N is the number of datapoints and D the feature dimension\n",
    "        The function should return the predicted binary labels as a numpy array of shape Nx1\n",
    "        '''\n",
    "        predictions = np.zeros(x.shape[0]) + self.majority_class\n",
    "        return predictions"
   ]
  },
  {
   "cell_type": "markdown",
   "id": "8727c82f-27f6-4575-8c9a-dee65686b482",
   "metadata": {},
   "source": [
    "#### Train baseline model"
   ]
  },
  {
   "cell_type": "code",
   "execution_count": 17,
   "id": "a476b07a-508f-411a-a8ce-b80910422d1e",
   "metadata": {},
   "outputs": [],
   "source": [
    "# Train baseline model\n",
    "baseline = Baseline_classifier()\n",
    "baseline.fit(speech_X_train, speech_Y_train) # predicts the majority class (non-speech) for all samples\n",
    "\n",
    "# Predictions\n",
    "Y_train_pred = baseline.predict(X_train)\n",
    "Y_test_pred = baseline.predict(X_test)"
   ]
  },
  {
   "cell_type": "markdown",
   "id": "f36eb7b9-a448-4127-87b7-f4058abf5112",
   "metadata": {},
   "source": [
    "#### Baseline Confusion Matrix"
   ]
  },
  {
   "cell_type": "code",
   "execution_count": 18,
   "id": "9c59c171-7c86-49b3-bf47-e561cf6dd8df",
   "metadata": {},
   "outputs": [
    {
     "data": {
      "image/png": "[encoded data removed]",
      "text/plain": [
       "<Figure size 800x300 with 2 Axes>"
      ]
     },
     "metadata": {},
     "output_type": "display_data"
    }
   ],
   "source": [
    "# Baseline Confusion Matrix\n",
    "classifier_confusion_matrix(speech_Y_train, Y_train_pred, speech_Y_test, Y_test_pred)\n",
    "    \n",
    "plt.savefig('Confusion_Matrix_Baseline_Classifier_Subset')\n",
    "plt.show()"
   ]
  },
  {
   "cell_type": "markdown",
   "id": "f2c49aad-a845-4454-b099-a8d420f6c029",
   "metadata": {},
   "source": [
    "#### Baseline Performance Metrics"
   ]
  },
  {
   "cell_type": "code",
   "execution_count": 19,
   "id": "f09826a1-d05e-4e16-aea6-ce26e9a53156",
   "metadata": {},
   "outputs": [
    {
     "name": "stdout",
     "output_type": "stream",
     "text": [
      "Performance Metrics – Baseline Classifier\n",
      "============================================================\n",
      "Accuracy:         0.918\n",
      "Weighted Accuracy:0.500\n",
      "Precision:        0.000\n",
      "Recall:           0.000\n",
      "F1 Score:         0.000\n",
      "ROC AUC:          0.500\n",
      "PR AUC:           0.082\n"
     ]
    }
   ],
   "source": [
    "# Baseline Performance Metrics \n",
    "print(\"Performance Metrics – Baseline Classifier\")\n",
    "print(\"=\" * 60)\n",
    "base_perf = performance_metrics(speech_Y_test, Y_test_pred)"
   ]
  },
  {
   "cell_type": "markdown",
   "id": "13dcdbbc-afff-4a65-a3f6-2ba20e7d1371",
   "metadata": {},
   "source": [
    "### kNN Classifier"
   ]
  },
  {
   "cell_type": "code",
   "execution_count": 20,
   "id": "0de1934a-650e-4240-aed7-fa1e2215a133",
   "metadata": {},
   "outputs": [],
   "source": [
    "# High computational effort!!!"
   ]
  },
  {
   "cell_type": "code",
   "execution_count": 21,
   "id": "c517a13f-cd2c-46e7-8b69-7a273de80e9a",
   "metadata": {},
   "outputs": [],
   "source": [
    "# kNN Classifier\n",
    "k=1\n",
    "knn = KNeighborsClassifier(n_neighbors=k)\n",
    "\n",
    "# Fit train data and predict labels\n",
    "knn.fit(speech_X_train, speech_Y_train)\n",
    "\n",
    "Y_train_pred = knn.predict(speech_X_train)\n",
    "Y_test_pred = knn.predict(speech_X_test)"
   ]
  },
  {
   "cell_type": "markdown",
   "id": "9d64ffa7-332e-4c42-bb8b-dcfa2e4c9e61",
   "metadata": {},
   "source": [
    "#### kNN Confusion Matrix"
   ]
  },
  {
   "cell_type": "code",
   "execution_count": 22,
   "id": "055fbb5d-0bae-4552-a620-3c128d061a04",
   "metadata": {},
   "outputs": [
    {
     "data": {
      "image/png": "[encoded data removed]",
      "text/plain": [
       "<Figure size 800x300 with 2 Axes>"
      ]
     },
     "metadata": {},
     "output_type": "display_data"
    }
   ],
   "source": [
    "# kNN Confusion Matrix\n",
    "classifier_confusion_matrix(speech_Y_train, Y_train_pred, speech_Y_test, Y_test_pred)\n",
    "\n",
    "plt.savefig(f'Confusion_Matrix_kNN_Classifier_Subset_k{k}')\n",
    "plt.show()"
   ]
  },
  {
   "cell_type": "markdown",
   "id": "125f1c20-625d-4a08-a919-fe91e5cf346d",
   "metadata": {},
   "source": [
    "#### kNN Performance Metrics"
   ]
  },
  {
   "cell_type": "code",
   "execution_count": 23,
   "id": "31ae84d8-ee7c-47d1-840f-e2b3c8658ba2",
   "metadata": {},
   "outputs": [
    {
     "name": "stdout",
     "output_type": "stream",
     "text": [
      "Performance Metrics – kNN Classifier\n",
      "============================================================\n",
      "Accuracy:         0.941\n",
      "Weighted Accuracy:0.804\n",
      "Precision:        0.639\n",
      "Recall:           0.640\n",
      "F1 Score:         0.640\n",
      "ROC AUC:          0.804\n",
      "PR AUC:           0.439\n"
     ]
    }
   ],
   "source": [
    "# kNN Performance Metrics \n",
    "print(\"Performance Metrics – kNN Classifier\")\n",
    "print(\"=\" * 60)\n",
    "kNN_perf = performance_metrics(speech_Y_test, Y_test_pred)"
   ]
  },
  {
   "cell_type": "markdown",
   "id": "5c82077e-446a-453f-aa11-cc6b554cd1bb",
   "metadata": {},
   "source": [
    "#### Random Forest Classifier"
   ]
  },
  {
   "cell_type": "code",
   "execution_count": 24,
   "id": "8fd8a7ce-a788-4281-85fe-57c92fde4669",
   "metadata": {},
   "outputs": [],
   "source": [
    "# Random Forest Classifier\n",
    "rf = RandomForestClassifier(max_depth=3, random_state=42)\n",
    "\n",
    "# Fit train data and predict labels\n",
    "rf.fit(X_train, speech_Y_train)\n",
    "\n",
    "Y_train_pred = rf.predict(X_train)\n",
    "Y_test_pred = rf.predict(X_test)"
   ]
  },
  {
   "cell_type": "markdown",
   "id": "1ffba6cd-315e-473e-b2a4-bab43dc8618e",
   "metadata": {},
   "source": [
    "#### Random Forest Confusion Matrix"
   ]
  },
  {
   "cell_type": "code",
   "execution_count": 25,
   "id": "ef93f808-4ab9-4da7-a5aa-b43e9c269645",
   "metadata": {},
   "outputs": [
    {
     "data": {
      "image/png": "[encoded data removed]",
      "text/plain": [
       "<Figure size 800x300 with 2 Axes>"
      ]
     },
     "metadata": {},
     "output_type": "display_data"
    }
   ],
   "source": [
    "# Random Forest Confusion Matrix\n",
    "classifier_confusion_matrix(speech_Y_train, Y_train_pred, speech_Y_test, Y_test_pred)\n",
    "\n",
    "plt.savefig(f'Confusion_Matrix_RF_Classifier_Subset')\n",
    "plt.show()"
   ]
  },
  {
   "cell_type": "markdown",
   "id": "07c2c3ca-4a3d-4c3d-a3d8-618956bb9d67",
   "metadata": {},
   "source": [
    "#### Random Forest Performance Metrics"
   ]
  },
  {
   "cell_type": "code",
   "execution_count": 26,
   "id": "4d7bc4b3-6c85-4b6a-9a21-5d32941701bc",
   "metadata": {},
   "outputs": [
    {
     "name": "stdout",
     "output_type": "stream",
     "text": [
      "Performance Metrics – Random Forest Classifier\n",
      "============================================================\n",
      "Accuracy:         0.918\n",
      "Weighted Accuracy:0.500\n",
      "Precision:        0.000\n",
      "Recall:           0.000\n",
      "F1 Score:         0.000\n",
      "ROC AUC:          0.500\n",
      "PR AUC:           0.082\n"
     ]
    }
   ],
   "source": [
    "# Random Forest Performance Metrics\n",
    "print(\"Performance Metrics – Random Forest Classifier\")\n",
    "print(\"=\" * 60)\n",
    "rf_perf = performance_metrics(speech_Y_test, Y_test_pred)"
   ]
  },
  {
   "cell_type": "markdown",
   "id": "68f90a7b-8e89-4d17-9303-8fcdeb19edbd",
   "metadata": {},
   "source": [
    "#### XGBoost Classifier"
   ]
  },
  {
   "cell_type": "code",
   "execution_count": 27,
   "id": "929c636e-1010-471d-a15b-93c34600c9ce",
   "metadata": {},
   "outputs": [],
   "source": [
    "# XGBoost Classifier\n",
    "from xgboost import XGBClassifier\n",
    "\n",
    "xgb = XGBClassifier(random_state=42)\n",
    "\n",
    "# Fit train data and predict labels\n",
    "xgb.fit(X_train, speech_Y_train)\n",
    "\n",
    "Y_train_pred = xgb.predict(X_train)\n",
    "Y_test_pred = xgb.predict(X_test)"
   ]
  },
  {
   "cell_type": "markdown",
   "id": "9e36d43a-fdca-4c6c-b42d-6a3f97f5ec2f",
   "metadata": {},
   "source": [
    "#### XGBoost Confusion Matrix"
   ]
  },
  {
   "cell_type": "code",
   "execution_count": 28,
   "id": "466a5fd4-d5cb-4a72-815b-fd7d99b9eba8",
   "metadata": {},
   "outputs": [
    {
     "data": {
      "image/png": "[encoded data removed]",
      "text/plain": [
       "<Figure size 800x300 with 2 Axes>"
      ]
     },
     "metadata": {},
     "output_type": "display_data"
    }
   ],
   "source": [
    "# XGBoost Confusion Matrix\n",
    "classifier_confusion_matrix(speech_Y_train, Y_train_pred, speech_Y_test, Y_test_pred)\n",
    "\n",
    "plt.savefig(f'Confusion_Matrix_XGB_Classifier_Subset')\n",
    "plt.show()"
   ]
  },
  {
   "cell_type": "markdown",
   "id": "8babaae0-d3fa-4787-97f7-e80ba024ff10",
   "metadata": {},
   "source": [
    "#### XGBoost Performance Metrics"
   ]
  },
  {
   "cell_type": "code",
   "execution_count": 29,
   "id": "079c3060-6439-4a9a-9705-d17564714869",
   "metadata": {},
   "outputs": [
    {
     "name": "stdout",
     "output_type": "stream",
     "text": [
      "Performance Metrics – XGBoost Classifier\n",
      "============================================================\n",
      "Accuracy:         0.960\n",
      "Weighted Accuracy:0.818\n",
      "Precision:        0.835\n",
      "Recall:           0.648\n",
      "F1 Score:         0.730\n",
      "ROC AUC:          0.818\n",
      "PR AUC:           0.570\n"
     ]
    }
   ],
   "source": [
    "# XGBoost Performance Metrics\n",
    "print(\"Performance Metrics – XGBoost Classifier\")\n",
    "print(\"=\" * 60)\n",
    "xgb_perf = performance_metrics(speech_Y_test, Y_test_pred)"
   ]
  },
  {
   "cell_type": "markdown",
   "id": "7550c195-0dc9-4090-b959-72f4678b577d",
   "metadata": {},
   "source": [
    "#### CUDA availability check"
   ]
  },
  {
   "cell_type": "code",
   "execution_count": 30,
   "id": "38f72bc3-5f65-4076-992a-46b4e45f69d8",
   "metadata": {},
   "outputs": [
    {
     "name": "stdout",
     "output_type": "stream",
     "text": [
      "CUDA version: 12.8\n",
      "Using GPU: NVIDIA GeForce RTX 3050 Ti Laptop GPU\n"
     ]
    }
   ],
   "source": [
    "import torch\n",
    "print(\"CUDA version:\",torch.version.cuda)  # Should show your CUDA version\n",
    "\n",
    "# CUDA availability check\n",
    "if torch.cuda.is_available():\n",
    "    device = torch.device('cuda')\n",
    "    print(f\"Using GPU: {torch.cuda.get_device_name(0)}\")\n",
    "else:\n",
    "    device = torch.device('cpu')\n",
    "    print(\"Using CPU\")"
   ]
  },
  {
   "cell_type": "markdown",
   "id": "51f64f3e-159b-44d6-9726-018b59204902",
   "metadata": {},
   "source": [
    "#### Neural Network Classifier"
   ]
  },
  {
   "cell_type": "code",
   "execution_count": 31,
   "id": "62f63f60-4aa6-4198-b833-3c30d90fa709",
   "metadata": {},
   "outputs": [],
   "source": [
    "# Neural Network Classifier\n",
    "import torch\n",
    "import torch.nn as nn\n",
    "import torch.optim as optim\n",
    "from torch.utils.data import TensorDataset, DataLoader\n",
    "\n",
    "# Convert data to PyTorch tensors\n",
    "X_train_tensor = torch.FloatTensor(X_train)\n",
    "y_train_tensor = torch.FloatTensor(speech_Y_train)\n",
    "X_test_tensor = torch.FloatTensor(X_test)\n",
    "y_test_tensor = torch.FloatTensor(speech_Y_test)\n",
    "\n",
    "# Create datasets and dataloaders\n",
    "batch_size = 256\n",
    "train_dataset = TensorDataset(X_train_tensor, y_train_tensor)\n",
    "test_dataset = TensorDataset(X_test_tensor, y_test_tensor)\n",
    "\n",
    "train_loader = DataLoader(train_dataset, batch_size=batch_size, shuffle=True)\n",
    "test_loader = DataLoader(test_dataset, batch_size=batch_size, shuffle=False)"
   ]
  },
  {
   "cell_type": "code",
   "execution_count": 32,
   "id": "d30dbf81-50a2-49c3-89a4-ce839b0f1744",
   "metadata": {},
   "outputs": [],
   "source": [
    "# Simple neural network model\n",
    "class SimpleNN(nn.Module):\n",
    "    def __init__(self, input_size):\n",
    "        super(SimpleNN, self).__init__()\n",
    "        self.layer1 = nn.Linear(input_size, 128)\n",
    "        self.layer2 = nn.Linear(128, 64)\n",
    "        self.output = nn.Linear(64, 1)\n",
    "        self.relu = nn.ReLU()\n",
    "        self.sigmoid = nn.Sigmoid()\n",
    "        \n",
    "    def forward(self, x):\n",
    "        x = self.relu(self.layer1(x))\n",
    "        x = self.relu(self.layer2(x))\n",
    "        x = self.sigmoid(self.output(x))\n",
    "        return x"
   ]
  },
  {
   "cell_type": "code",
   "execution_count": 33,
   "id": "acfa2e17-ac2f-44fd-99d6-190496ed5e13",
   "metadata": {},
   "outputs": [],
   "source": [
    "# Initialize model, loss and optimizer\n",
    "model = SimpleNN(X_train.shape[1])\n",
    "criterion = nn.BCELoss()\n",
    "optimizer = optim.Adam(model.parameters(), lr=0.001)"
   ]
  },
  {
   "cell_type": "code",
   "execution_count": 34,
   "id": "10a50fb6-9b76-464b-9790-a0f1e8db76fe",
   "metadata": {},
   "outputs": [
    {
     "name": "stdout",
     "output_type": "stream",
     "text": [
      "Epoch [2/10], Loss: 0.0015\n",
      "Epoch [4/10], Loss: 0.0022\n",
      "Epoch [6/10], Loss: 0.0029\n",
      "Epoch [8/10], Loss: 0.0060\n",
      "Epoch [10/10], Loss: 0.0009\n"
     ]
    }
   ],
   "source": [
    "# Training loop\n",
    "epochs = 10\n",
    "for epoch in range(epochs):\n",
    "    model.train()\n",
    "    for inputs, labels in train_loader:\n",
    "        optimizer.zero_grad()\n",
    "        outputs = model(inputs)\n",
    "        loss = criterion(outputs.squeeze(), labels)\n",
    "        loss.backward()\n",
    "        optimizer.step()\n",
    "    \n",
    "    # Print training progress\n",
    "    if (epoch+1) % 2 == 0:\n",
    "        print(f'Epoch [{epoch+1}/{epochs}], Loss: {loss.item():.4f}')\n",
    "\n",
    "# Evaluation function\n",
    "def evaluate_model(model, loader):\n",
    "    model.eval()\n",
    "    all_preds = []\n",
    "    all_labels = []\n",
    "    with torch.no_grad():\n",
    "        for inputs, labels in loader:\n",
    "            outputs = model(inputs)\n",
    "            preds = (outputs > 0.5).float()\n",
    "            all_preds.extend(preds.squeeze().numpy())\n",
    "            all_labels.extend(labels.numpy())\n",
    "    return all_labels, all_preds\n",
    "\n",
    "# Get predictions\n",
    "train_labels, train_preds = evaluate_model(model, train_loader)\n",
    "test_labels, test_preds = evaluate_model(model, test_loader)"
   ]
  },
  {
   "cell_type": "markdown",
   "id": "f15feaba-6e1b-4f13-903b-478c03cee3c5",
   "metadata": {},
   "source": [
    "#### SimpleNN Confusion Matrix"
   ]
  },
  {
   "cell_type": "code",
   "execution_count": 35,
   "id": "518c91b9-0fb0-430a-8ae5-8fe12767435f",
   "metadata": {},
   "outputs": [
    {
     "data": {
      "image/png": "[encoded data removed]",
      "text/plain": [
       "<Figure size 800x300 with 2 Axes>"
      ]
     },
     "metadata": {},
     "output_type": "display_data"
    }
   ],
   "source": [
    "classifier_confusion_matrix(train_labels, train_preds, test_labels, test_preds)\n",
    "plt.savefig('Confusion_Matrix_SimpleNN_Classifier')\n",
    "plt.show()"
   ]
  },
  {
   "cell_type": "markdown",
   "id": "b3896262-f7a1-4e5f-ad04-d632a60e3166",
   "metadata": {},
   "source": [
    "#### SimpleNN Performance Metrics"
   ]
  },
  {
   "cell_type": "code",
   "execution_count": 36,
   "id": "ceb9e2fb-a342-4d65-b8d2-e32ffe2cbd24",
   "metadata": {},
   "outputs": [
    {
     "name": "stdout",
     "output_type": "stream",
     "text": [
      "\n",
      "SimpleNN Performance:\n",
      "============================================================\n",
      "Accuracy:         0.954\n",
      "Weighted Accuracy:0.875\n",
      "Precision:        0.697\n",
      "Recall:           0.781\n",
      "F1 Score:         0.737\n",
      "ROC AUC:          0.875\n",
      "PR AUC:           0.563\n"
     ]
    }
   ],
   "source": [
    "# SimpleNN Performance Metrics\n",
    "print(\"\\nSimpleNN Performance:\")\n",
    "print(\"=\" * 60)\n",
    "nn_perf = performance_metrics(test_labels, test_preds)"
   ]
  },
  {
   "cell_type": "code",
   "execution_count": null,
   "id": "e1a953f3-1275-4d04-b111-96bae6d4a556",
   "metadata": {},
   "outputs": [],
   "source": []
  }
 ],
 "metadata": {
  "kernelspec": {
   "display_name": "Python 3 (ipykernel)",
   "language": "python",
   "name": "python3"
  },
  "language_info": {
   "codemirror_mode": {
    "name": "ipython",
    "version": 3
   },
   "file_extension": ".py",
   "mimetype": "text/x-python",
   "name": "python",
   "nbconvert_exporter": "python",
   "pygments_lexer": "ipython3",
   "version": "3.12.4"
  }
 },
 "nbformat": 4,
 "nbformat_minor": 5
}
